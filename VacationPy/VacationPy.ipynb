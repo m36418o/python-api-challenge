{
 "cells": [
  {
   "cell_type": "markdown",
   "metadata": {},
   "source": [
    "# VacationPy\n",
    "----\n",
    "\n",
    "#### Note\n",
    "* This assignment was complete in collaboration with Ashley Parra.\n",
    "* Keep an eye on your API usage. Use https://developers.google.com/maps/reporting/gmp-reporting as reference for how to monitor your usage and billing.\n",
    "* Instructions have been included for each segment. You do not have to follow them exactly, but they are included to help you think through the steps."
   ]
  },
  {
   "cell_type": "code",
   "execution_count": 6,
   "metadata": {},
   "outputs": [],
   "source": [
    "# Dependencies and Setup\n",
    "import matplotlib.pyplot as plt\n",
    "import pandas as pd\n",
    "import numpy as np\n",
    "import requests\n",
    "import gmaps\n",
    "import os\n",
    "\n",
    "# Import API key\n",
    "from api_keys import g_key"
   ]
  },
  {
   "cell_type": "markdown",
   "metadata": {},
   "source": [
    "### Store Part I results into DataFrame\n",
    "* Load the csv exported in Part I to a DataFrame"
   ]
  },
  {
   "cell_type": "code",
   "execution_count": 7,
   "metadata": {},
   "outputs": [
    {
     "output_type": "execute_result",
     "data": {
      "text/plain": [
       "           City      Lat       Lng  Max Temp.  Humidity  Cloudiness  \\\n",
       "0       rikitea -23.1203 -134.9692      79.03        72         100   \n",
       "1          gizo  -8.1030  156.8419      84.33        71          79   \n",
       "2  punta arenas -53.1500  -70.9167      42.80        93          40   \n",
       "3         bluff -46.6000  168.3333      48.99        87          88   \n",
       "4         kapaa  22.0752 -159.3190      77.00        73          75   \n",
       "\n",
       "   Wind Speed Country        Date  \n",
       "0       16.31      PF  1619229547  \n",
       "1        7.65      SB  1619229614  \n",
       "2        3.44      CL  1619229607  \n",
       "3        7.00      NZ  1619229496  \n",
       "4       17.27      US  1619229561  "
      ],
      "text/html": "<div>\n<style scoped>\n    .dataframe tbody tr th:only-of-type {\n        vertical-align: middle;\n    }\n\n    .dataframe tbody tr th {\n        vertical-align: top;\n    }\n\n    .dataframe thead th {\n        text-align: right;\n    }\n</style>\n<table border=\"1\" class=\"dataframe\">\n  <thead>\n    <tr style=\"text-align: right;\">\n      <th></th>\n      <th>City</th>\n      <th>Lat</th>\n      <th>Lng</th>\n      <th>Max Temp.</th>\n      <th>Humidity</th>\n      <th>Cloudiness</th>\n      <th>Wind Speed</th>\n      <th>Country</th>\n      <th>Date</th>\n    </tr>\n  </thead>\n  <tbody>\n    <tr>\n      <th>0</th>\n      <td>rikitea</td>\n      <td>-23.1203</td>\n      <td>-134.9692</td>\n      <td>79.03</td>\n      <td>72</td>\n      <td>100</td>\n      <td>16.31</td>\n      <td>PF</td>\n      <td>1619229547</td>\n    </tr>\n    <tr>\n      <th>1</th>\n      <td>gizo</td>\n      <td>-8.1030</td>\n      <td>156.8419</td>\n      <td>84.33</td>\n      <td>71</td>\n      <td>79</td>\n      <td>7.65</td>\n      <td>SB</td>\n      <td>1619229614</td>\n    </tr>\n    <tr>\n      <th>2</th>\n      <td>punta arenas</td>\n      <td>-53.1500</td>\n      <td>-70.9167</td>\n      <td>42.80</td>\n      <td>93</td>\n      <td>40</td>\n      <td>3.44</td>\n      <td>CL</td>\n      <td>1619229607</td>\n    </tr>\n    <tr>\n      <th>3</th>\n      <td>bluff</td>\n      <td>-46.6000</td>\n      <td>168.3333</td>\n      <td>48.99</td>\n      <td>87</td>\n      <td>88</td>\n      <td>7.00</td>\n      <td>NZ</td>\n      <td>1619229496</td>\n    </tr>\n    <tr>\n      <th>4</th>\n      <td>kapaa</td>\n      <td>22.0752</td>\n      <td>-159.3190</td>\n      <td>77.00</td>\n      <td>73</td>\n      <td>75</td>\n      <td>17.27</td>\n      <td>US</td>\n      <td>1619229561</td>\n    </tr>\n  </tbody>\n</table>\n</div>"
     },
     "metadata": {},
     "execution_count": 7
    }
   ],
   "source": [
    "city_df = pd.read_csv(\"../WeatherPy/City Weather.csv\")\n",
    "city_df.head()\n"
   ]
  },
  {
   "cell_type": "markdown",
   "metadata": {},
   "source": [
    "### Humidity Heatmap\n",
    "* Configure gmaps.\n",
    "* Use the Lat and Lng as locations and Humidity as the weight.\n",
    "* Add Heatmap layer to map."
   ]
  },
  {
   "cell_type": "code",
   "execution_count": 93,
   "metadata": {},
   "outputs": [
    {
     "output_type": "display_data",
     "data": {
      "text/plain": "Figure(layout=FigureLayout(height='420px'))",
      "application/vnd.jupyter.widget-view+json": {
       "version_major": 2,
       "version_minor": 0,
       "model_id": "da092059a7754d009b68b81e5c20c41f"
      }
     },
     "metadata": {}
    }
   ],
   "source": [
    "# Grabbing Locations\n",
    "locations = [(city_df.iloc[i, 1], city_df.iloc[i, 2]) for i in city_df.index]\n",
    "# Configure GMaps\n",
    "gmaps.configure(api_key=g_key)\n",
    "fig = gmaps.figure(map_type='ROADMAP', zoom_level=2, center=(0,0))\n",
    "heatmap_layer = gmaps.heatmap_layer(locations, weights=city_df[\"Humidity\"])\n",
    "fig.add_layer(heatmap_layer)\n",
    "fig"
   ]
  },
  {
   "cell_type": "code",
   "execution_count": null,
   "metadata": {},
   "outputs": [],
   "source": []
  },
  {
   "cell_type": "markdown",
   "metadata": {},
   "source": [
    "### Create new DataFrame fitting weather criteria\n",
    "* Narrow down the cities to fit weather conditions.\n",
    "* Drop any rows will null values."
   ]
  },
  {
   "cell_type": "code",
   "execution_count": 67,
   "metadata": {},
   "outputs": [
    {
     "output_type": "execute_result",
     "data": {
      "text/plain": [
       "    index         City      Lat       Lng  Max Temp.  Humidity  Cloudiness  \\\n",
       "0      24       maceio  -9.6658  -35.7353       73.4       100           0   \n",
       "1      64    geraldton -28.7667  114.6000       75.2        43           0   \n",
       "2     178      ballina -28.8667  153.5667       71.6        53           0   \n",
       "3     205  providencia  28.7167 -111.5833       72.0        51           0   \n",
       "4     257    changping  40.2186  116.2197       70.0        52           0   \n",
       "5     263      pitimbu  -7.4706  -34.8086       77.0        88           0   \n",
       "6     333    byron bay -28.6500  153.6167       71.6        53           0   \n",
       "7     364    morondava -20.2833   44.2833       74.3        79           0   \n",
       "8     402    quelimane -17.8786   36.8883       73.4        83           0   \n",
       "9     504       mehriz  31.5917   54.4318       75.2        22           0   \n",
       "10    507         atar  20.5169  -13.0499       77.5        15           0   \n",
       "\n",
       "    Wind Speed Country        Date  \n",
       "0         3.44      BR  1619229449  \n",
       "1         6.91      AU  1619229643  \n",
       "2         3.44      AU  1619229701  \n",
       "3         5.99      MX  1619229720  \n",
       "4         4.47      CN  1619229747  \n",
       "5         4.61      BR  1619229749  \n",
       "6         3.44      AU  1619229790  \n",
       "7         6.17      MG  1619229800  \n",
       "8         2.30      MZ  1619229823  \n",
       "9         4.61      IR  1619229875  \n",
       "10        6.60      MR  1619229876  "
      ],
      "text/html": "<div>\n<style scoped>\n    .dataframe tbody tr th:only-of-type {\n        vertical-align: middle;\n    }\n\n    .dataframe tbody tr th {\n        vertical-align: top;\n    }\n\n    .dataframe thead th {\n        text-align: right;\n    }\n</style>\n<table border=\"1\" class=\"dataframe\">\n  <thead>\n    <tr style=\"text-align: right;\">\n      <th></th>\n      <th>index</th>\n      <th>City</th>\n      <th>Lat</th>\n      <th>Lng</th>\n      <th>Max Temp.</th>\n      <th>Humidity</th>\n      <th>Cloudiness</th>\n      <th>Wind Speed</th>\n      <th>Country</th>\n      <th>Date</th>\n    </tr>\n  </thead>\n  <tbody>\n    <tr>\n      <th>0</th>\n      <td>24</td>\n      <td>maceio</td>\n      <td>-9.6658</td>\n      <td>-35.7353</td>\n      <td>73.4</td>\n      <td>100</td>\n      <td>0</td>\n      <td>3.44</td>\n      <td>BR</td>\n      <td>1619229449</td>\n    </tr>\n    <tr>\n      <th>1</th>\n      <td>64</td>\n      <td>geraldton</td>\n      <td>-28.7667</td>\n      <td>114.6000</td>\n      <td>75.2</td>\n      <td>43</td>\n      <td>0</td>\n      <td>6.91</td>\n      <td>AU</td>\n      <td>1619229643</td>\n    </tr>\n    <tr>\n      <th>2</th>\n      <td>178</td>\n      <td>ballina</td>\n      <td>-28.8667</td>\n      <td>153.5667</td>\n      <td>71.6</td>\n      <td>53</td>\n      <td>0</td>\n      <td>3.44</td>\n      <td>AU</td>\n      <td>1619229701</td>\n    </tr>\n    <tr>\n      <th>3</th>\n      <td>205</td>\n      <td>providencia</td>\n      <td>28.7167</td>\n      <td>-111.5833</td>\n      <td>72.0</td>\n      <td>51</td>\n      <td>0</td>\n      <td>5.99</td>\n      <td>MX</td>\n      <td>1619229720</td>\n    </tr>\n    <tr>\n      <th>4</th>\n      <td>257</td>\n      <td>changping</td>\n      <td>40.2186</td>\n      <td>116.2197</td>\n      <td>70.0</td>\n      <td>52</td>\n      <td>0</td>\n      <td>4.47</td>\n      <td>CN</td>\n      <td>1619229747</td>\n    </tr>\n    <tr>\n      <th>5</th>\n      <td>263</td>\n      <td>pitimbu</td>\n      <td>-7.4706</td>\n      <td>-34.8086</td>\n      <td>77.0</td>\n      <td>88</td>\n      <td>0</td>\n      <td>4.61</td>\n      <td>BR</td>\n      <td>1619229749</td>\n    </tr>\n    <tr>\n      <th>6</th>\n      <td>333</td>\n      <td>byron bay</td>\n      <td>-28.6500</td>\n      <td>153.6167</td>\n      <td>71.6</td>\n      <td>53</td>\n      <td>0</td>\n      <td>3.44</td>\n      <td>AU</td>\n      <td>1619229790</td>\n    </tr>\n    <tr>\n      <th>7</th>\n      <td>364</td>\n      <td>morondava</td>\n      <td>-20.2833</td>\n      <td>44.2833</td>\n      <td>74.3</td>\n      <td>79</td>\n      <td>0</td>\n      <td>6.17</td>\n      <td>MG</td>\n      <td>1619229800</td>\n    </tr>\n    <tr>\n      <th>8</th>\n      <td>402</td>\n      <td>quelimane</td>\n      <td>-17.8786</td>\n      <td>36.8883</td>\n      <td>73.4</td>\n      <td>83</td>\n      <td>0</td>\n      <td>2.30</td>\n      <td>MZ</td>\n      <td>1619229823</td>\n    </tr>\n    <tr>\n      <th>9</th>\n      <td>504</td>\n      <td>mehriz</td>\n      <td>31.5917</td>\n      <td>54.4318</td>\n      <td>75.2</td>\n      <td>22</td>\n      <td>0</td>\n      <td>4.61</td>\n      <td>IR</td>\n      <td>1619229875</td>\n    </tr>\n    <tr>\n      <th>10</th>\n      <td>507</td>\n      <td>atar</td>\n      <td>20.5169</td>\n      <td>-13.0499</td>\n      <td>77.5</td>\n      <td>15</td>\n      <td>0</td>\n      <td>6.60</td>\n      <td>MR</td>\n      <td>1619229876</td>\n    </tr>\n  </tbody>\n</table>\n</div>"
     },
     "metadata": {},
     "execution_count": 67
    }
   ],
   "source": [
    "dropped_city_df = city_df\n",
    "for i in city_df.index:\n",
    "    if city_df.iloc[i, 3] < 70 or city_df.iloc[i, 3] > 80 or city_df.iloc[i, 5] != 0 or city_df.iloc[i, 6] > 10:\n",
    "        dropped_city_df = dropped_city_df.drop([i])\n",
    "dropped_city_df = dropped_city_df.reset_index()\n",
    "dropped_city_df"
   ]
  },
  {
   "cell_type": "markdown",
   "metadata": {},
   "source": [
    "### Hotel Map\n",
    "* Store into variable named `hotel_df`.\n",
    "* Add a \"Hotel Name\" column to the DataFrame.\n",
    "* Set parameters to search for hotels with 5000 meters.\n",
    "* Hit the Google Places API for each city's coordinates.\n",
    "* Store the first Hotel result into the DataFrame.\n",
    "* Plot markers on top of the heatmap."
   ]
  },
  {
   "cell_type": "code",
   "execution_count": 97,
   "metadata": {},
   "outputs": [
    {
     "output_type": "execute_result",
     "data": {
      "text/plain": [
       "           City        Lat         Lng  Max Temp.  Humidity  Cloudiness  \\\n",
       "0        maceio  -9.649849  -35.708949       73.4       100           0   \n",
       "1     geraldton -28.775092  114.609858       75.2        43           0   \n",
       "2       ballina  54.114948   -9.155069       71.6        53           0   \n",
       "3   providencia  13.338761  -81.372937       72.0        51           0   \n",
       "4     changping  40.220659  116.231203       70.0        52           0   \n",
       "5       pitimbu  -7.472545  -34.808110       77.0        88           0   \n",
       "6     byron bay -28.647367  153.601977       71.6        53           0   \n",
       "7     morondava -20.290419   44.299996       74.3        79           0   \n",
       "8     quelimane -17.850264   36.921858       73.4        83           0   \n",
       "9        mehriz  31.577814   54.445158       75.2        22           0   \n",
       "10         atar  20.507292  -13.052978       77.5        15           0   \n",
       "\n",
       "    Wind Speed Country        Date  \\\n",
       "0         3.44      BR  1619229449   \n",
       "1         6.91      AU  1619229643   \n",
       "2         3.44      AU  1619229701   \n",
       "3         5.99      MX  1619229720   \n",
       "4         4.47      CN  1619229747   \n",
       "5         4.61      BR  1619229749   \n",
       "6         3.44      AU  1619229790   \n",
       "7         6.17      MG  1619229800   \n",
       "8         2.30      MZ  1619229823   \n",
       "9         4.61      IR  1619229875   \n",
       "10        6.60      MR  1619229876   \n",
       "\n",
       "                                           Hotel Name  \n",
       "0                                     Meridiano Hotel  \n",
       "1                                  Ocean Centre Hotel  \n",
       "2   Ocean Sands Hotel - Enniscrone, Co. Sligo, Ire...  \n",
       "3                                           Deep Blue  \n",
       "4                    Beijing Marriott Hotel Changping  \n",
       "5                               HOTEL PONTA DE PEDRAS  \n",
       "6                                  Atlantic Byron Bay  \n",
       "7                 Palissandre Cote Ouest resort & SPA  \n",
       "8                                  Pensao Bons Sinais  \n",
       "9                                     Hotel baghe aho  \n",
       "10                                         Bab Sahara  "
      ],
      "text/html": "<div>\n<style scoped>\n    .dataframe tbody tr th:only-of-type {\n        vertical-align: middle;\n    }\n\n    .dataframe tbody tr th {\n        vertical-align: top;\n    }\n\n    .dataframe thead th {\n        text-align: right;\n    }\n</style>\n<table border=\"1\" class=\"dataframe\">\n  <thead>\n    <tr style=\"text-align: right;\">\n      <th></th>\n      <th>City</th>\n      <th>Lat</th>\n      <th>Lng</th>\n      <th>Max Temp.</th>\n      <th>Humidity</th>\n      <th>Cloudiness</th>\n      <th>Wind Speed</th>\n      <th>Country</th>\n      <th>Date</th>\n      <th>Hotel Name</th>\n    </tr>\n  </thead>\n  <tbody>\n    <tr>\n      <th>0</th>\n      <td>maceio</td>\n      <td>-9.649849</td>\n      <td>-35.708949</td>\n      <td>73.4</td>\n      <td>100</td>\n      <td>0</td>\n      <td>3.44</td>\n      <td>BR</td>\n      <td>1619229449</td>\n      <td>Meridiano Hotel</td>\n    </tr>\n    <tr>\n      <th>1</th>\n      <td>geraldton</td>\n      <td>-28.775092</td>\n      <td>114.609858</td>\n      <td>75.2</td>\n      <td>43</td>\n      <td>0</td>\n      <td>6.91</td>\n      <td>AU</td>\n      <td>1619229643</td>\n      <td>Ocean Centre Hotel</td>\n    </tr>\n    <tr>\n      <th>2</th>\n      <td>ballina</td>\n      <td>54.114948</td>\n      <td>-9.155069</td>\n      <td>71.6</td>\n      <td>53</td>\n      <td>0</td>\n      <td>3.44</td>\n      <td>AU</td>\n      <td>1619229701</td>\n      <td>Ocean Sands Hotel - Enniscrone, Co. Sligo, Ire...</td>\n    </tr>\n    <tr>\n      <th>3</th>\n      <td>providencia</td>\n      <td>13.338761</td>\n      <td>-81.372937</td>\n      <td>72.0</td>\n      <td>51</td>\n      <td>0</td>\n      <td>5.99</td>\n      <td>MX</td>\n      <td>1619229720</td>\n      <td>Deep Blue</td>\n    </tr>\n    <tr>\n      <th>4</th>\n      <td>changping</td>\n      <td>40.220659</td>\n      <td>116.231203</td>\n      <td>70.0</td>\n      <td>52</td>\n      <td>0</td>\n      <td>4.47</td>\n      <td>CN</td>\n      <td>1619229747</td>\n      <td>Beijing Marriott Hotel Changping</td>\n    </tr>\n    <tr>\n      <th>5</th>\n      <td>pitimbu</td>\n      <td>-7.472545</td>\n      <td>-34.808110</td>\n      <td>77.0</td>\n      <td>88</td>\n      <td>0</td>\n      <td>4.61</td>\n      <td>BR</td>\n      <td>1619229749</td>\n      <td>HOTEL PONTA DE PEDRAS</td>\n    </tr>\n    <tr>\n      <th>6</th>\n      <td>byron bay</td>\n      <td>-28.647367</td>\n      <td>153.601977</td>\n      <td>71.6</td>\n      <td>53</td>\n      <td>0</td>\n      <td>3.44</td>\n      <td>AU</td>\n      <td>1619229790</td>\n      <td>Atlantic Byron Bay</td>\n    </tr>\n    <tr>\n      <th>7</th>\n      <td>morondava</td>\n      <td>-20.290419</td>\n      <td>44.299996</td>\n      <td>74.3</td>\n      <td>79</td>\n      <td>0</td>\n      <td>6.17</td>\n      <td>MG</td>\n      <td>1619229800</td>\n      <td>Palissandre Cote Ouest resort &amp; SPA</td>\n    </tr>\n    <tr>\n      <th>8</th>\n      <td>quelimane</td>\n      <td>-17.850264</td>\n      <td>36.921858</td>\n      <td>73.4</td>\n      <td>83</td>\n      <td>0</td>\n      <td>2.30</td>\n      <td>MZ</td>\n      <td>1619229823</td>\n      <td>Pensao Bons Sinais</td>\n    </tr>\n    <tr>\n      <th>9</th>\n      <td>mehriz</td>\n      <td>31.577814</td>\n      <td>54.445158</td>\n      <td>75.2</td>\n      <td>22</td>\n      <td>0</td>\n      <td>4.61</td>\n      <td>IR</td>\n      <td>1619229875</td>\n      <td>Hotel baghe aho</td>\n    </tr>\n    <tr>\n      <th>10</th>\n      <td>atar</td>\n      <td>20.507292</td>\n      <td>-13.052978</td>\n      <td>77.5</td>\n      <td>15</td>\n      <td>0</td>\n      <td>6.60</td>\n      <td>MR</td>\n      <td>1619229876</td>\n      <td>Bab Sahara</td>\n    </tr>\n  </tbody>\n</table>\n</div>"
     },
     "metadata": {},
     "execution_count": 97
    }
   ],
   "source": [
    "# Setting up hotels dataframe\n",
    "hotel_df = dropped_city_df\n",
    "hotel_df = hotel_df.drop(columns=\"index\")\n",
    "hotel_df[\"Hotel Name\"] = \" \"\n",
    "# Setting precise city location\n",
    "params = {\"key\": g_key}\n",
    "\n",
    "# Loop through the cities_pd and run a lat/long search for each city\n",
    "for index, row in hotel_df.iterrows():\n",
    "    # Setting basic url\n",
    "    base_url = \"https://maps.googleapis.com/maps/api/geocode/json\"\n",
    "    city = row['City']\n",
    "    # Update address key value\n",
    "    params['address'] = f\"{city}\"\n",
    "    # Make request\n",
    "    cities_lat_lng = requests.get(base_url, params=params)\n",
    "    # Convert to json\n",
    "    cities_lat_lng = cities_lat_lng.json()\n",
    "    # Setting new locations\n",
    "    hotel_df.loc[index, \"Lat\"] = cities_lat_lng[\"results\"][0][\"geometry\"][\"location\"][\"lat\"]\n",
    "    hotel_df.loc[index, \"Lng\"] = cities_lat_lng[\"results\"][0][\"geometry\"][\"location\"][\"lng\"]\n",
    "# Setting url, query url, lat, and lng\n",
    "lat = 0\n",
    "lng = 0\n",
    "url = \"https://maps.googleapis.com/maps/api/place/findplacefromtext/json?input=hotel&inputtype=textquery&fields=name&locationbias=circle:5000@\"\n",
    "\n",
    "for index, row in hotel_df.iterrows():\n",
    "    # Grabbing lat and lng and query url\n",
    "    lat = row[\"Lat\"]\n",
    "    lng = row[\"Lng\"]\n",
    "    query_url = f\"{url}{lat},{lng}&key={g_key}\"\n",
    "    # Request search\n",
    "    response = requests.get(query_url).json()\n",
    "    # Setting hotel name\n",
    "    hotel_df.loc[index, \"Hotel Name\"] = response[\"candidates\"][0][\"name\"]\n",
    "    \n",
    "hotel_df\n"
   ]
  },
  {
   "cell_type": "code",
   "execution_count": null,
   "metadata": {},
   "outputs": [],
   "source": []
  },
  {
   "cell_type": "code",
   "execution_count": 98,
   "metadata": {},
   "outputs": [],
   "source": [
    "# NOTE: Do not change any of the code in this cell\n",
    "\n",
    "# Using the template add the hotel marks to the heatmap\n",
    "info_box_template = \"\"\"\n",
    "<dl>\n",
    "<dt>Name</dt><dd>{Hotel Name}</dd>\n",
    "<dt>City</dt><dd>{City}</dd>\n",
    "<dt>Country</dt><dd>{Country}</dd>\n",
    "</dl>\n",
    "\"\"\"\n",
    "# Store the DataFrame Row\n",
    "# NOTE: be sure to update with your DataFrame name\n",
    "hotel_info = [info_box_template.format(**row) for index, row in hotel_df.iterrows()]\n",
    "locations = hotel_df[[\"Lat\", \"Lng\"]]"
   ]
  },
  {
   "cell_type": "code",
   "execution_count": 100,
   "metadata": {},
   "outputs": [
    {
     "output_type": "display_data",
     "data": {
      "text/plain": "Figure(layout=FigureLayout(height='420px'))",
      "application/vnd.jupyter.widget-view+json": {
       "version_major": 2,
       "version_minor": 0,
       "model_id": "da092059a7754d009b68b81e5c20c41f"
      }
     },
     "metadata": {}
    }
   ],
   "source": [
    "# Add marker layer ontop of heat map\n",
    "markers = gmaps.marker_layer(locations,\n",
    "    info_box_content=hotel_info)\n",
    "fig.add_layer(markers)\n",
    "# Display figure\n",
    "fig"
   ]
  },
  {
   "cell_type": "code",
   "execution_count": null,
   "metadata": {},
   "outputs": [],
   "source": []
  }
 ],
 "metadata": {
  "kernelspec": {
   "name": "python379jvsc74a57bd03caff1f6fb90138d0919c9d826d38659908ba61fc9999fc75443d91f43160cd9",
   "display_name": "Python 3.7.9 64-bit ('PythonData': conda)"
  },
  "language_info": {
   "codemirror_mode": {
    "name": "ipython",
    "version": 3
   },
   "file_extension": ".py",
   "mimetype": "text/x-python",
   "name": "python",
   "nbconvert_exporter": "python",
   "pygments_lexer": "ipython3",
   "version": "3.7.9-final"
  },
  "latex_envs": {
   "LaTeX_envs_menu_present": true,
   "autoclose": false,
   "autocomplete": true,
   "bibliofile": "biblio.bib",
   "cite_by": "apalike",
   "current_citInitial": 1,
   "eqLabelWithNumbers": true,
   "eqNumInitial": 1,
   "hotkeys": {
    "equation": "Ctrl-E",
    "itemize": "Ctrl-I"
   },
   "labels_anchors": false,
   "latex_user_defs": false,
   "report_style_numbering": false,
   "user_envs_cfg": false
  }
 },
 "nbformat": 4,
 "nbformat_minor": 4
}